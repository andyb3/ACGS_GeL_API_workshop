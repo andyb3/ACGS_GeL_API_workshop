{
 "cells": [
  {
   "cell_type": "markdown",
   "metadata": {},
   "source": [
    "# Example CIP API Usage"
   ]
  },
  {
   "cell_type": "markdown",
   "metadata": {},
   "source": [
    "## The below functionality will allow you to authenticate in the CIP API with your credentials and programatically access the endpoints that are available to you"
   ]
  },
  {
   "cell_type": "markdown",
   "metadata": {},
   "source": [
    "### This will load in the credentials you have exported in your shell (please see the README.md) or you can enter them here"
   ]
  },
  {
   "cell_type": "code",
   "execution_count": 8,
   "metadata": {},
   "outputs": [],
   "source": [
    "import os\n",
    "CIP_API_USERNAME = os.getenv(\"CIP_API_USERNAME\") or \"your_username_here\"\n",
    "CIP_API_PASSWORD = os.getenv(\"CIP_API_PASSWORD\") or \"your_password_here\"\n",
    "CIP_API_SERVER_URL = os.getenv(\"CIP_API_SERVER_URL\") or \"https://cip-api-server-url/api/{endpoint}\""
   ]
  },
  {
   "cell_type": "markdown",
   "metadata": {},
   "source": [
    "### `get_url_json_response` below will return the json response from the url you provide (if successful) and will authenticate based on your credentials."
   ]
  },
  {
   "cell_type": "code",
   "execution_count": 17,
   "metadata": {},
   "outputs": [],
   "source": [
    "import requests\n",
    "\n",
    "\n",
    "def get_authenticated_header():\n",
    "    url = CIP_API_SERVER_URL\n",
    "    auth_endpoint = \"get-token/\"\n",
    "\n",
    "    irl_response = requests.post(\n",
    "        url=url.format(endpoint=auth_endpoint),\n",
    "        json=dict(\n",
    "            username=CIP_API_USERNAME,\n",
    "            password=CIP_API_PASSWORD,\n",
    "        ),\n",
    "    )\n",
    "    irl_response_json = irl_response.json()\n",
    "    token = irl_response_json.get('token')\n",
    "\n",
    "    auth_header = {\n",
    "        'Accept': 'application/json',\n",
    "        \"Authorization\": \"JWT {token}\".format(token=token),\n",
    "    }\n",
    "    return auth_header\n",
    "\n",
    "def get_url_json_response(url):\n",
    "    response = requests.get(url=url, headers=get_authenticated_header())\n",
    "\n",
    "    if response.status_code != 200:\n",
    "        raise ValueError(\n",
    "            \"Received status: {status} for url: {url} with response: {response}\".format(\n",
    "            status=response.status_code, url=url, response=response.content)\n",
    "        )\n",
    "    return response.json()"
   ]
  },
  {
   "cell_type": "markdown",
   "metadata": {},
   "source": [
    "### Create a string for the endpoint you wish to connect to\n",
    "### A list of available endpoints can be viewed at https://cip-api-server-url/api/docs (replacing cip-api-server-url with the server you wish to connect to)"
   ]
  },
  {
   "cell_type": "code",
   "execution_count": 20,
   "metadata": {},
   "outputs": [],
   "source": [
    "interpretation_request_list_endpoint = \"interpretationRequestsList\""
   ]
  },
  {
   "cell_type": "markdown",
   "metadata": {},
   "source": [
    "### Use `format` to construct the full URL"
   ]
  },
  {
   "cell_type": "code",
   "execution_count": 21,
   "metadata": {},
   "outputs": [],
   "source": [
    "IR_list_url = CIP_API_SERVER_URL.format(endpoint=interpretation_request_list_endpoint)"
   ]
  },
  {
   "cell_type": "markdown",
   "metadata": {},
   "source": [
    "### Pass this URL to `get_url_json_response` to get the json of all CIP API Interpretation Requests your credentials will allow you to view"
   ]
  },
  {
   "cell_type": "code",
   "execution_count": 22,
   "metadata": {},
   "outputs": [],
   "source": [
    "IR_list = get_url_json_response(url=IR_list_url)"
   ]
  },
  {
   "cell_type": "markdown",
   "metadata": {},
   "source": [
    "### Inspect the results"
   ]
  },
  {
   "cell_type": "code",
   "execution_count": 23,
   "metadata": {},
   "outputs": [
    {
     "data": {
      "text/plain": [
       "dict"
      ]
     },
     "execution_count": 23,
     "metadata": {},
     "output_type": "execute_result"
    }
   ],
   "source": [
    "type(IR_list)"
   ]
  },
  {
   "cell_type": "code",
   "execution_count": 24,
   "metadata": {},
   "outputs": [
    {
     "data": {
      "text/plain": [
       "[u'count', u'previous', u'results', u'next']"
      ]
     },
     "execution_count": 24,
     "metadata": {},
     "output_type": "execute_result"
    }
   ],
   "source": [
    "IR_list.keys()"
   ]
  },
  {
   "cell_type": "code",
   "execution_count": 25,
   "metadata": {},
   "outputs": [
    {
     "data": {
      "text/plain": [
       "list"
      ]
     },
     "execution_count": 25,
     "metadata": {},
     "output_type": "execute_result"
    }
   ],
   "source": [
    "type(IR_list['results'])"
   ]
  },
  {
   "cell_type": "code",
   "execution_count": 26,
   "metadata": {},
   "outputs": [
    {
     "data": {
      "text/plain": [
       "100"
      ]
     },
     "execution_count": 26,
     "metadata": {},
     "output_type": "execute_result"
    }
   ],
   "source": [
    "len(IR_list['results'])"
   ]
  },
  {
   "cell_type": "code",
   "execution_count": 28,
   "metadata": {},
   "outputs": [
    {
     "data": {
      "text/plain": [
       "{u'case_priority': u'low',\n",
       " u'cip': u'omicia',\n",
       " u'cohort_id': u'50003384',\n",
       " u'family_id': u'50003384',\n",
       " u'files': [],\n",
       " u'interpretation_request_id': u'32-2',\n",
       " u'interpreted_genomes': [{u'cip_version': 1,\n",
       "   u'clinical_reports': [],\n",
       "   u'create_at': u'2017-01-16T14:12:22.773815Z'}],\n",
       " u'last_status': u'report_sent',\n",
       " u'last_update': u'2017-05-08 13:43:17',\n",
       " u'number_of_samples': 3,\n",
       " u'proband': u'50003384',\n",
       " u'sample_type': u'raredisease',\n",
       " u'sites': [u'GSTT'],\n",
       " u'tags': []}"
      ]
     },
     "execution_count": 28,
     "metadata": {},
     "output_type": "execute_result"
    }
   ],
   "source": [
    "IR_list['results'][0]"
   ]
  },
  {
   "cell_type": "code",
   "execution_count": null,
   "metadata": {},
   "outputs": [],
   "source": []
  }
 ],
 "metadata": {
  "kernelspec": {
   "display_name": "Python 2",
   "language": "python",
   "name": "python2"
  },
  "language_info": {
   "codemirror_mode": {
    "name": "ipython",
    "version": 2
   },
   "file_extension": ".py",
   "mimetype": "text/x-python",
   "name": "python",
   "nbconvert_exporter": "python",
   "pygments_lexer": "ipython2",
   "version": "2.7.12"
  }
 },
 "nbformat": 4,
 "nbformat_minor": 2
}
