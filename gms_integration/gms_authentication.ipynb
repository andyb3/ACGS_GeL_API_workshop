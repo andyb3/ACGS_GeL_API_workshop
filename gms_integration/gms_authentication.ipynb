{
 "cells": [
  {
   "cell_type": "markdown",
   "metadata": {},
   "source": [
    "# GMS Authentication\n",
    "\n",
    "## Background\n",
    "\n",
    "As part of NGIS Genomics England are migrating from LDAP and adopting Active Directory (AD). This means that the authentication in the Interpretation API (aka CIP-API ) will also be moved to AD. \n",
    "\n",
    "This will impact the  way systems such as internal pipelines, interpretation services (external and internal) and decision support systems (DSS) authenticate against the CIP-API. \n",
    "\n",
    "The following notebook provides an example of how to use Python to obtain an AD Authentication token for system access to the CIP-API aka \"Client Credentials Flow\" \n",
    "\n",
    "### Authentication Method\n",
    "\n",
    "The authentication method will be the same we are using at the moment, based on a `Bearer Token` present in the header of each request. \n",
    "\n",
    "This token will have an expiration time, clients should get a new one when this happens. \n"
   ]
  },
  {
   "cell_type": "code",
   "execution_count": 3,
   "metadata": {},
   "outputs": [],
   "source": [
    "tenant_id = \"afee026d-8f37-400e-8869-72d9124873e4\" # this is the ID of the Active Dirctory \"tenant\"\n",
    "client_id = \"\" # this is the ID of the client (e.g. a gel2mdt application) that is going to query the CIP-API\n",
    "client_secret = \"\" # this is the password for the client that is going to query the CIP-API"
   ]
  },
  {
   "cell_type": "markdown",
   "metadata": {},
   "source": [
    "_**If you are developing (or working with) an application (e.g. gel2mdt) that requires system access to the CIP-API please contact Genomics England Service Desk to obtain details of the `tenant_id`, `client_id` and `client_sceret`**_"
   ]
  },
  {
   "cell_type": "code",
   "execution_count": 7,
   "metadata": {},
   "outputs": [],
   "source": [
    "import requests\n",
    " \n",
    "url = \"https://login.microsoftonline.com/{tenant_id}/oauth2/token\".format(tenant_id=tenant_id)\n",
    " \n",
    "payload = \"grant_type=client_credentials&client_id={client_id}&client_secret={client_secret}\".format(client_id=client_id,\n",
    "                                                                                                     client_secret=client_secret)\n",
    "headers = {\n",
    "    'Content-Type': \"application/x-www-form-urlencoded\",\n",
    "    }\n",
    " \n",
    "response = requests.request(\"POST\", url, data=payload, headers=headers).json()\n",
    " \n",
    "# print(response.text)"
   ]
  },
  {
   "cell_type": "code",
   "execution_count": 9,
   "metadata": {},
   "outputs": [],
   "source": [
    "token = response['access_token']"
   ]
  },
  {
   "cell_type": "code",
   "execution_count": 10,
   "metadata": {},
   "outputs": [
    {
     "data": {
      "text/plain": [
       "'eyJ0eXAiOiJKV1QiLCJhbGciOiJSUzI1NiIsIng1dCI6ImllX3FXQ1hoWHh0MXpJRXN1NGM3YWNRVkduNCIsImtpZCI6ImllX3FXQ1hoWHh0MXpJRXN1NGM3YWNRVkduNCJ9.eyJhdWQiOiIwMDAwMDAwMi0wMDAwLTAwMDAtYzAwMC0wMDAwMDAwMDAwMDAiLCJpc3MiOiJodHRwczovL3N0cy53aW5kb3dzLm5ldC9hZmVlMDI2ZC04ZjM3LTQwMGUtODg2OS03MmQ5MTI0ODczZTQvIiwiaWF0IjoxNTY2MzE2NDA0LCJuYmYiOjE1NjYzMTY0MDQsImV4cCI6MTU2NjMyMDMwNCwiYWlvIjoiNDJGZ1lLamNkSXhwVWY4WGQvVTh1OFk3N3YzY0FBPT0iLCJhcHBpZCI6IjgxNjQ1MzZmLTc2Y2ItNGRjNS04OGE1LWUzOTZiYmI1NjVlMCIsImFwcGlkYWNyIjoiMSIsImlkcCI6Imh0dHBzOi8vc3RzLndpbmRvd3MubmV0L2FmZWUwMjZkLThmMzctNDAwZS04ODY5LTcyZDkxMjQ4NzNlNC8iLCJvaWQiOiIyODQyNWY2ZS1iN2EyLTQ0YjEtODg4Mi00ODdlY2EwMDJmNTUiLCJzdWIiOiIyODQyNWY2ZS1iN2EyLTQ0YjEtODg4Mi00ODdlY2EwMDJmNTUiLCJ0ZW5hbnRfcmVnaW9uX3Njb3BlIjoiRVUiLCJ0aWQiOiJhZmVlMDI2ZC04ZjM3LTQwMGUtODg2OS03MmQ5MTI0ODczZTQiLCJ1dGkiOiJHNHV3TWs5SlhVT3RvNjl0aGtXd0FBIiwidmVyIjoiMS4wIn0.T21f0TMEIkMjd-AO9kVUF6cXnQqVJaNbjAMCSyaT5EILObWQwxKoI48dN2QbADv5zqMIJKlc4cabEyX-wqdZFS3oqC9cPvYt2TRMKpkJfgdfcrlIz7VzKG3VbbyufK6n-d7ETysEjdIRHKwMIJCXz5bxAG6rh9hL4HuUurxJyNnhXdRzVJWGYuVxWNZbJYlH8X6S3YjAsM_9s5wxm2alD72CJ2-rAOkFJGMVsk6nUWp58AODTLC6AzYjKkSnGNxRnqCz_DtwGcQCZl8_KrgKCfs4c2Mr3GnPuxSCwPQAVxIVZC2JbznwMzR_gSC9PUg01I0nTaQzhmdzrqXORAFTcA'"
      ]
     },
     "execution_count": 10,
     "metadata": {},
     "output_type": "execute_result"
    }
   ],
   "source": [
    "token"
   ]
  },
  {
   "cell_type": "markdown",
   "metadata": {},
   "source": [
    "## Example using AD authentication token with requests library"
   ]
  },
  {
   "cell_type": "code",
   "execution_count": 16,
   "metadata": {},
   "outputs": [],
   "source": [
    "interpretation_request_id = \"88\"\n",
    "interpretation_request_version = \"1\""
   ]
  },
  {
   "cell_type": "code",
   "execution_count": 22,
   "metadata": {},
   "outputs": [],
   "source": [
    "def get_ir(token, interpretation_request_id, interpretation_request_version, extra_params=\"?extra-params=show_referral\"):\n",
    "    \n",
    "    \"\"\" Get the complete interpretation request data for a specific case and version \n",
    "    \n",
    "    uses an extra parameter to get the referral information for GMS cases\n",
    "    \n",
    "    \"\"\"\n",
    "    \n",
    "    url = '{host}/api/2/interpretation-request/{ir_id}/{ir_v}/{extras}'.format(host=host, \n",
    "                                                                               ir_id=interpretation_request_id, \n",
    "                                                                               ir_v=interpretation_request_version, \n",
    "                                                                               extras=extra_params)\n",
    "    auth_header = {'Authorization': 'JWT {}'.format(token)}\n",
    "    tv = requests.get(url, headers=auth_header)\n",
    "    \n",
    "    return tv\n",
    "\n",
    "    # check that the ir has the interpretation request data\n",
    "#     if 'interpretation_request_data' in tv and tv['interpretation_request_data']:\n",
    "#         return tv\n",
    "#     else:\n",
    "#         raise Exception('Case not found')"
   ]
  },
  {
   "cell_type": "code",
   "execution_count": 23,
   "metadata": {},
   "outputs": [],
   "source": [
    "ir = get_ir(token=token, interpretation_request_id=interpretation_request_id, \n",
    "            interpretation_request_version=interpretation_request_version)"
   ]
  },
  {
   "cell_type": "code",
   "execution_count": 27,
   "metadata": {},
   "outputs": [
    {
     "data": {
      "text/plain": [
       "<Response [403]>"
      ]
     },
     "execution_count": 27,
     "metadata": {},
     "output_type": "execute_result"
    }
   ],
   "source": [
    "ir"
   ]
  },
  {
   "cell_type": "code",
   "execution_count": 28,
   "metadata": {},
   "outputs": [
    {
     "data": {
      "text/plain": [
       "{'detail': 'This action can not be performed by Interpretation Services or Decision Support Systems'}"
      ]
     },
     "execution_count": 28,
     "metadata": {},
     "output_type": "execute_result"
    }
   ],
   "source": [
    "ir.json()"
   ]
  },
  {
   "cell_type": "markdown",
   "metadata": {},
   "source": [
    "## Example using AD authentication token with pycipapi client"
   ]
  },
  {
   "cell_type": "code",
   "execution_count": 12,
   "metadata": {},
   "outputs": [],
   "source": [
    "host = \"https://cipapi-gms-beta.gel.zone\"\n",
    "from pycipapi.cipapi_client import CipApiClient\n",
    "cipapi = CipApiClient(host, token=token) # this creates a cip-api client which can then be used to make additional queries of the CIP-API data"
   ]
  },
  {
   "cell_type": "code",
   "execution_count": 14,
   "metadata": {},
   "outputs": [
    {
     "name": "stdout",
     "output_type": "stream",
     "text": [
      "Referral id: r19552775693\n",
      "Referral id: r19754290876\n",
      "Referral id: r19448207345\n",
      "Referral id: r19156653850\n",
      "Referral id: r19337397961\n",
      "Referral id: r19698886184\n",
      "Referral id: r19392802654\n",
      "Referral id: r19628951458\n",
      "Referral id: r19087814411\n",
      "Referral id: r19475647240\n",
      "Referral id: r19239498445\n",
      "Referral id: r19281993271\n",
      "Referral id: r19016784391\n",
      "Referral id: r19990439671\n",
      "Referral id: r19559016721\n",
      "Referral id: r19031314434\n",
      "Referral id: r19888729392\n",
      "Referral id: r19804264624\n",
      "Referral id: r19066758142\n",
      "Referral id: r19879630291\n",
      "Referral id: r19935034984\n",
      "Referral id: r19252933191\n",
      "Referral id: r19614421412\n",
      "Referral id: r19585361336\n",
      "Referral id: r19407332690\n",
      "Referral id: r19503612036\n",
      "Referral id: r19498181097\n",
      "Referral id: r19806980097\n",
      "Referral id: r19226588580\n",
      "Referral id: r19643481497\n",
      "Referral id: r19206627604\n",
      "Referral id: r19115779204\n",
      "Referral id: r19182998460\n",
      "Referral id: r19238403159\n",
      "Referral id: r19143076503\n",
      "Referral id: r19102201856\n",
      "Referral id: r19518142077\n",
      "Referral id: r19002254359\n",
      "Referral id: r19462737388\n",
      "Referral id: r19693455244\n",
      "Referral id: r19171183894\n",
      "Referral id: r19865100258\n",
      "Referral id: r19045844479\n",
      "Referral id: r19809695566\n",
      "Referral id: r19573546767\n",
      "Referral id: r19920504941\n",
      "Referral id: r19579120309\n",
      "Referral id: r19684356144\n"
     ]
    }
   ],
   "source": [
    "for referral in cipapi.list_referral():\n",
    "    print('Referral id: {}'.format(referral.referral_id))"
   ]
  },
  {
   "cell_type": "code",
   "execution_count": null,
   "metadata": {},
   "outputs": [],
   "source": []
  }
 ],
 "metadata": {
  "kernelspec": {
   "display_name": "Python 3",
   "language": "python",
   "name": "python3"
  },
  "language_info": {
   "codemirror_mode": {
    "name": "ipython",
    "version": 3
   },
   "file_extension": ".py",
   "mimetype": "text/x-python",
   "name": "python",
   "nbconvert_exporter": "python",
   "pygments_lexer": "ipython3",
   "version": "3.7.4"
  }
 },
 "nbformat": 4,
 "nbformat_minor": 2
}
