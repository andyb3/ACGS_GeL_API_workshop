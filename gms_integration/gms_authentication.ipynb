{
 "cells": [
  {
   "cell_type": "markdown",
   "metadata": {},
   "source": [
    "# GMS Authentication\n",
    "\n",
    "## Background\n",
    "\n",
    "As part of NGIS Genomics England are migrating from LDAP and adopting Active Directory (AD). This means that the authentication in the Interpretation API (aka CIP-API ) will also be moved to AD. \n",
    "\n",
    "This will impact the  way systems such as internal pipelines, interpretation services (external and internal) and decision support systems (DSS) authenticate against the CIP-API. \n",
    "\n",
    "The following notebook provides an example of how to use Python to obtain an AD Authentication token for system access to the CIP-API aka \"Client Credentials Flow\" \n",
    "\n",
    "### Authentication Method\n",
    "\n",
    "The authentication method will be the same we are using at the moment, based on a `Bearer Token` present in the header of each request. \n",
    "\n",
    "This token will have an expiration time, clients should get a new one when this happens. \n"
   ]
  },
  {
   "cell_type": "code",
   "execution_count": null,
   "metadata": {},
   "outputs": [],
   "source": [
    "tenant_id = \"afee026d-8f37-400e-8869-72d9124873e4\" # this is the ID of the Active Dirctory \"tenant\"\n",
    "client_id = \"\" # this is the ID of the client (e.g. a gel2mdt application) that is going to query the CIP-API\n",
    "client_secret = \"\" # this is the password for the client that is going to query the CIP-API"
   ]
  },
  {
   "cell_type": "markdown",
   "metadata": {},
   "source": [
    "_**If you are developing (or working with) an application (e.g. gel2mdt) that requires system access to the CIP-API please contact Genomics England Service Desk to obtain details of the `tenant_id`, `client_id` and `client_sceret`**_"
   ]
  },
  {
   "cell_type": "code",
   "execution_count": null,
   "metadata": {},
   "outputs": [],
   "source": [
    "import requests\n",
    " \n",
    "url = \"https://login.microsoftonline.com/{tenant_id}/oauth2/token\".format(tenant_id=tenant_id)\n",
    "\n",
    "payload = \"grant_type=client_credentials\"\n",
    "\n",
    "headers = {\n",
    "    'Content-Type': \"application/x-www-form-urlencoded\",\n",
    "    }\n",
    "\n",
    "response = requests.request(\"POST\", url, data=payload, headers=headers, auth=(client_id, client_secret))\n",
    "\n",
    "print(response.text)"
   ]
  },
  {
   "cell_type": "code",
   "execution_count": null,
   "metadata": {},
   "outputs": [],
   "source": [
    "token = response['access_token']"
   ]
  },
  {
   "cell_type": "code",
   "execution_count": null,
   "metadata": {},
   "outputs": [],
   "source": [
    "token"
   ]
  },
  {
   "cell_type": "markdown",
   "metadata": {},
   "source": [
    "## Example using AD authentication token with requests library"
   ]
  },
  {
   "cell_type": "code",
   "execution_count": null,
   "metadata": {},
   "outputs": [],
   "source": [
    "interpretation_request_id = \"88\"\n",
    "interpretation_request_version = \"1\""
   ]
  },
  {
   "cell_type": "code",
   "execution_count": null,
   "metadata": {},
   "outputs": [],
   "source": [
    "def get_ir(token, interpretation_request_id, interpretation_request_version, extra_params=\"?extra-params=show_referral\"):\n",
    "    \n",
    "    \"\"\" Get the complete interpretation request data for a specific case and version \n",
    "    \n",
    "    uses an extra parameter to get the referral information for GMS cases\n",
    "    \n",
    "    \"\"\"\n",
    "    \n",
    "    url = '{host}/api/2/interpretation-request/{ir_id}/{ir_v}/{extras}'.format(host=host, \n",
    "                                                                               ir_id=interpretation_request_id, \n",
    "                                                                               ir_v=interpretation_request_version, \n",
    "                                                                               extras=extra_params)\n",
    "    auth_header = {'Authorization': 'JWT {}'.format(token)}\n",
    "    tv = requests.get(url, headers=auth_header)\n",
    "    \n",
    "    return tv\n",
    "\n",
    "    # check that the ir has the interpretation request data\n",
    "#     if 'interpretation_request_data' in tv and tv['interpretation_request_data']:\n",
    "#         return tv\n",
    "#     else:\n",
    "#         raise Exception('Case not found')"
   ]
  },
  {
   "cell_type": "code",
   "execution_count": null,
   "metadata": {},
   "outputs": [],
   "source": [
    "ir = get_ir(token=token, interpretation_request_id=interpretation_request_id, \n",
    "            interpretation_request_version=interpretation_request_version)"
   ]
  },
  {
   "cell_type": "code",
   "execution_count": null,
   "metadata": {},
   "outputs": [],
   "source": [
    "ir"
   ]
  },
  {
   "cell_type": "code",
   "execution_count": null,
   "metadata": {},
   "outputs": [],
   "source": [
    "ir.json()"
   ]
  },
  {
   "cell_type": "markdown",
   "metadata": {},
   "source": [
    "## Example using AD authentication token with pycipapi client"
   ]
  },
  {
   "cell_type": "code",
   "execution_count": null,
   "metadata": {},
   "outputs": [],
   "source": [
    "host = \"https://cipapi-gms-beta.gel.zone\"\n",
    "from pycipapi.cipapi_client import CipApiClient\n",
    "cipapi = CipApiClient(host, token=token) # this creates a cip-api client which can then be used to make additional queries of the CIP-API data"
   ]
  },
  {
   "cell_type": "code",
   "execution_count": null,
   "metadata": {},
   "outputs": [],
   "source": [
    "for referral in cipapi.list_referral():\n",
    "    print('Referral id: {}'.format(referral.referral_id))"
   ]
  },
  {
   "cell_type": "code",
   "execution_count": null,
   "metadata": {},
   "outputs": [],
   "source": []
  }
 ],
 "metadata": {
  "kernelspec": {
   "display_name": "Python 3",
   "language": "python",
   "name": "python3"
  },
  "language_info": {
   "codemirror_mode": {
    "name": "ipython",
    "version": 3
   },
   "file_extension": ".py",
   "mimetype": "text/x-python",
   "name": "python",
   "nbconvert_exporter": "python",
   "pygments_lexer": "ipython3",
   "version": "3.7.4"
  }
 },
 "nbformat": 4,
 "nbformat_minor": 2
}
