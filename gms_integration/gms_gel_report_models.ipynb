{
 "cells": [
  {
   "cell_type": "markdown",
   "metadata": {},
   "source": [
    "# Working with GeLReportModels in the GMS"
   ]
  },
  {
   "cell_type": "markdown",
   "metadata": {},
   "source": [
    "If programatically accessing cases in the Interpretation-API (aka CIP-API) you are encouraged to use the Gel Report Models application as it helps to map the JSON blobs from the API endpoints to Python objects which are easier and more efficient to work with. \n",
    "\n",
    "The Gel Report Models Application is available in PyPi here: https://pypi.org/project/GelReportModels/ thus can be installed with the following shell command:\n",
    "\n",
    "`pip install gelreportmodels`\n",
    "\n",
    "This will install the latest version of GeL Report Models (currently 7.3) "
   ]
  },
  {
   "cell_type": "markdown",
   "metadata": {},
   "source": [
    "If you are programmatically working with *GMS cases* in the Interpretation-API you need to use `v1.2.0` of the `participant` package of Gel Report Models which contains the `Referral` and `ReferralTest` data models"
   ]
  },
  {
   "cell_type": "code",
   "execution_count": 25,
   "metadata": {},
   "outputs": [],
   "source": [
    "import os\n",
    "import requests\n",
    "from protocols.participant_1_2_0 import Referral, ReferralTest # these two models are GMS specific \n",
    "from protocols.reports_6_0_1 import InterpretationRequestRD, InterpretationDataRd, InterpretationDataCancer"
   ]
  },
  {
   "cell_type": "code",
   "execution_count": 26,
   "metadata": {},
   "outputs": [],
   "source": [
    "host = \"https://cipapi-gms-beta.gel.zone\""
   ]
  },
  {
   "cell_type": "markdown",
   "metadata": {},
   "source": [
    "## Authentication"
   ]
  },
  {
   "cell_type": "markdown",
   "metadata": {},
   "source": [
    "If you want to programatically query the GMS BETA Interpretation-API please contact Genomics England Service Desk - they will set you up in the application and issue you specific credentials for this\n",
    "\n",
    "*NOTE THIS IS NOT FOR SYSTEM ACCESS TO THE Interpretation-API, FOR SYSTEM ACCESS YOUR ACTIVATE DIRECTORY SYSTEM TOKEN SHOULD BE USED TO MAKE QUERIES, SEE BELOW FOR INFO...*"
   ]
  },
  {
   "cell_type": "markdown",
   "metadata": {},
   "source": [
    "### Example authentication using requests library and username and password"
   ]
  },
  {
   "cell_type": "code",
   "execution_count": 37,
   "metadata": {},
   "outputs": [],
   "source": [
    "username = os.getenv('cipapi_user')\n",
    "password = os.getenv('cipapi_pass')"
   ]
  },
  {
   "cell_type": "code",
   "execution_count": 38,
   "metadata": {},
   "outputs": [],
   "source": [
    "def login(host, username, password):\n",
    "\n",
    "    \"\"\" \n",
    "    Login to Interpretation-API and return a token \n",
    "    \n",
    "    NOTE: it will not be possible to programmatically obtain a token using this method until your credentials \n",
    "    have first been manually registered in the application by Genomics England\n",
    "    \n",
    "    Please contact Genomics England Service Desk if you require this\n",
    "    \n",
    "    \"\"\"\n",
    "\n",
    "    url = '{}/api/2/get-token/'.format(host)\n",
    "    token = requests.post(url, json={'username': username, 'password': password}).json().get('token')\n",
    "\n",
    "    return token"
   ]
  },
  {
   "cell_type": "code",
   "execution_count": 29,
   "metadata": {},
   "outputs": [],
   "source": [
    "token = login(host, username, password)"
   ]
  },
  {
   "cell_type": "markdown",
   "metadata": {},
   "source": [
    "## Get an Interpretation Request (IR) for a case"
   ]
  },
  {
   "cell_type": "code",
   "execution_count": 30,
   "metadata": {},
   "outputs": [],
   "source": [
    "interpretation_request_id = \"88\"\n",
    "interpretation_request_version = \"1\""
   ]
  },
  {
   "cell_type": "markdown",
   "metadata": {},
   "source": [
    "### Example getting an IR using requests library"
   ]
  },
  {
   "cell_type": "code",
   "execution_count": 31,
   "metadata": {},
   "outputs": [],
   "source": [
    "def get_ir(token, interpretation_request_id, interpretation_request_version, extra_params=\"?extra-params=show_referral\"):\n",
    "    \n",
    "    \"\"\" Get the complete interpretation request data for a specific case and version \n",
    "    \n",
    "    uses an extra parameter to get the referral information for GMS cases\n",
    "    \n",
    "    \"\"\"\n",
    "    \n",
    "    url = '{host}/api/2/interpretation-request/{ir_id}/{ir_v}/{extras}'.format(host=host, \n",
    "                                                                               ir_id=interpretation_request_id, \n",
    "                                                                               ir_v=interpretation_request_version, \n",
    "                                                                               extras=extra_params)\n",
    "    auth_header = {'Authorization': 'JWT {}'.format(token)}\n",
    "    tv = requests.get(url, headers=auth_header).json()\n",
    "\n",
    "    # check that the ir has the interpretation request data\n",
    "    if 'interpretation_request_data' in tv and tv['interpretation_request_data']:\n",
    "        return tv\n",
    "    else:\n",
    "        raise Exception('Case not found')"
   ]
  },
  {
   "cell_type": "code",
   "execution_count": 32,
   "metadata": {},
   "outputs": [],
   "source": [
    "ir = get_ir(token=token, interpretation_request_id=interpretation_request_id, \n",
    "            interpretation_request_version=interpretation_request_version)"
   ]
  },
  {
   "cell_type": "markdown",
   "metadata": {},
   "source": [
    "### The Interpretation Request JSON can be converted to a Python object using GeLReportModels"
   ]
  },
  {
   "cell_type": "code",
   "execution_count": 33,
   "metadata": {},
   "outputs": [],
   "source": [
    "ir_model = InterpretationRequestRD.fromJsonDict(ir[\"interpretation_request_data\"][\"json_request\"])"
   ]
  },
  {
   "cell_type": "markdown",
   "metadata": {},
   "source": [
    "The pedigree associated with the case can then be acceesed like this: "
   ]
  },
  {
   "cell_type": "code",
   "execution_count": 34,
   "metadata": {},
   "outputs": [
    {
     "data": {
      "text/plain": [
       "protocols.reports_6_0_1.Pedigree"
      ]
     },
     "execution_count": 34,
     "metadata": {},
     "output_type": "execute_result"
    }
   ],
   "source": [
    "pedigree = ir_model.pedigree\n",
    "type(pedigree)"
   ]
  },
  {
   "cell_type": "code",
   "execution_count": 36,
   "metadata": {},
   "outputs": [
    {
     "data": {
      "text/plain": [
       "protocols.reports_6_0_1.PedigreeMember"
      ]
     },
     "execution_count": 36,
     "metadata": {},
     "output_type": "execute_result"
    }
   ],
   "source": [
    "type(pedigree.members[0])"
   ]
  },
  {
   "cell_type": "markdown",
   "metadata": {},
   "source": [
    "### For GMS cases specific referral attributes from TOMs can be accessed like this"
   ]
  },
  {
   "cell_type": "code",
   "execution_count": 12,
   "metadata": {},
   "outputs": [],
   "source": [
    "referral = Referral.fromJsonDict(ir['referral']['referral_data'])"
   ]
  },
  {
   "cell_type": "code",
   "execution_count": 13,
   "metadata": {},
   "outputs": [
    {
     "data": {
      "text/plain": [
       "'Kettering General Hospital NHS Foundation Trust'"
      ]
     },
     "execution_count": 13,
     "metadata": {},
     "output_type": "execute_result"
    }
   ],
   "source": [
    "referral.requester.organisationName"
   ]
  },
  {
   "cell_type": "code",
   "execution_count": 14,
   "metadata": {},
   "outputs": [
    {
     "data": {
      "text/plain": [
       "'Kettering General Hospital NHS Foundation Trust'"
      ]
     },
     "execution_count": 14,
     "metadata": {},
     "output_type": "execute_result"
    }
   ],
   "source": [
    "referral.referralTests[0].interpreter.organisationName"
   ]
  },
  {
   "cell_type": "code",
   "execution_count": 15,
   "metadata": {},
   "outputs": [
    {
     "data": {
      "text/plain": [
       "'Kettering General Hospital NHS Foundation Trust'"
      ]
     },
     "execution_count": 15,
     "metadata": {},
     "output_type": "execute_result"
    }
   ],
   "source": [
    "referral.referralTests[0].processingLab.organisationName"
   ]
  },
  {
   "cell_type": "code",
   "execution_count": 16,
   "metadata": {},
   "outputs": [
    {
     "data": {
      "text/plain": [
       "'Hereditary ataxia with onset in adulthood'"
      ]
     },
     "execution_count": 16,
     "metadata": {},
     "output_type": "execute_result"
    }
   ],
   "source": [
    "referral.clinicalIndication.clinicalIndicationFullName"
   ]
  },
  {
   "cell_type": "code",
   "execution_count": 17,
   "metadata": {},
   "outputs": [
    {
     "data": {
      "text/plain": [
       "{'year': 2019, 'month': 6, 'day': 30}"
      ]
     },
     "execution_count": 17,
     "metadata": {},
     "output_type": "execute_result"
    }
   ],
   "source": [
    "referral.referralTests[0].referralTestOrderingDate.toJsonDict() # the date the test was ordered in TOMS"
   ]
  },
  {
   "cell_type": "markdown",
   "metadata": {},
   "source": [
    "# Examples using pycipapi python client"
   ]
  },
  {
   "cell_type": "markdown",
   "metadata": {},
   "source": [
    "Pycipapi is a Python client developed by Genomics England to aid in interogating data in the Interpretation-API (aka CIP-API).\n",
    "It is available in PyPi here: https://pypi.org/project/pycipapi/\n",
    "therefore be installed like this: `pip install pycipapi`\n",
    "doing so will also install the latest version of GeLReportModels  (also available in pypi: https://pypi.org/project/GelReportModels/)\n",
    "\n",
    "The pycipapi client will automatically return JSON blobs as Gel Report Model objects"
   ]
  },
  {
   "cell_type": "markdown",
   "metadata": {},
   "source": [
    "### Example authentication using pycipapi client: "
   ]
  },
  {
   "cell_type": "code",
   "execution_count": 39,
   "metadata": {},
   "outputs": [],
   "source": [
    "from pycipapi.cipapi_client import CipApiClient\n",
    "cipapi = CipApiClient(host, user=username, password=password) # this creates a cip-api client which can then be used to make additional queries of the CIP-API data"
   ]
  },
  {
   "cell_type": "markdown",
   "metadata": {},
   "source": [
    "### Example getting an interpretation request using pycipapi"
   ]
  },
  {
   "cell_type": "code",
   "execution_count": 40,
   "metadata": {},
   "outputs": [],
   "source": [
    "case = cipapi.get_case(case_id=interpretation_request_id, \n",
    "                       case_version=interpretation_request_version,\n",
    "                      **{'extra-params': 'show_referral'})"
   ]
  },
  {
   "cell_type": "code",
   "execution_count": 41,
   "metadata": {},
   "outputs": [
    {
     "name": "stdout",
     "output_type": "stream",
     "text": [
      "<class 'protocols.reports_6_0_0.InterpretationRequestRD'>\n"
     ]
    }
   ],
   "source": [
    "print(type(case.interpretation_request_payload))"
   ]
  },
  {
   "cell_type": "code",
   "execution_count": 42,
   "metadata": {},
   "outputs": [
    {
     "name": "stdout",
     "output_type": "stream",
     "text": [
      "<class 'protocols.reports_6_0_0.Pedigree'>\n"
     ]
    }
   ],
   "source": [
    "print(type(case.pedigree))"
   ]
  },
  {
   "cell_type": "code",
   "execution_count": 43,
   "metadata": {},
   "outputs": [
    {
     "name": "stdout",
     "output_type": "stream",
     "text": [
      "<class 'protocols.reports_6_0_0.PedigreeMember'>\n"
     ]
    }
   ],
   "source": [
    "print(type(case.pedigree.members[0]))"
   ]
  },
  {
   "cell_type": "code",
   "execution_count": 108,
   "metadata": {},
   "outputs": [
    {
     "ename": "AttributeError",
     "evalue": "'CipApiCase' object has no attribute 'referral'",
     "output_type": "error",
     "traceback": [
      "\u001b[0;31m---------------------------------------------------------------------------\u001b[0m",
      "\u001b[0;31mAttributeError\u001b[0m                            Traceback (most recent call last)",
      "\u001b[0;32m<ipython-input-108-47e771fc72a4>\u001b[0m in \u001b[0;36m<module>\u001b[0;34m\u001b[0m\n\u001b[0;32m----> 1\u001b[0;31m \u001b[0mcase\u001b[0m\u001b[0;34m.\u001b[0m\u001b[0mreferral\u001b[0m\u001b[0;34m\u001b[0m\u001b[0;34m\u001b[0m\u001b[0m\n\u001b[0m",
      "\u001b[0;31mAttributeError\u001b[0m: 'CipApiCase' object has no attribute 'referral'"
     ]
    }
   ],
   "source": [
    "case.referral # TBC"
   ]
  },
  {
   "cell_type": "markdown",
   "metadata": {},
   "source": [
    "### listing referrals and associated interpretation requests"
   ]
  },
  {
   "cell_type": "code",
   "execution_count": 23,
   "metadata": {},
   "outputs": [
    {
     "name": "stdout",
     "output_type": "stream",
     "text": [
      "Referral id: r19552775693\n",
      "\t* Interpretation Request SAP-93-1: \n",
      "Referral id: r19754290876\n",
      "\t* Interpretation Request GEL-8-1: \n",
      "Referral id: r19448207345\n",
      "\t* Interpretation Request GEL-18-1: \n",
      "Referral id: r19156653850\n",
      "\t* Interpretation Request GEL-19-1: \n",
      "Referral id: r19337397961\n",
      "\t* Interpretation Request GEL-26-1: \n",
      "Referral id: r19698886184\n",
      "\t* Interpretation Request GEL-3-2: \n",
      "Referral id: r19392802654\n",
      "\t* Interpretation Request GEL-27-1: \n",
      "Referral id: r19628951458\n",
      "\t* Interpretation Request GEL-29-1: \n",
      "Referral id: r19087814411\n",
      "\t* Interpretation Request GEL-30-1: \n",
      "Referral id: r19475647240\n",
      "\t* Interpretation Request GEL-31-1: \n",
      "Referral id: r19239498445\n",
      "\t* Interpretation Request GEL-32-1: \n",
      "Referral id: r19281993271\n",
      "\t* Interpretation Request SAP-37-1: \n",
      "Referral id: r19016784391\n",
      "Referral id: r19990439671\n",
      "\t* Interpretation Request SAP-37-2: \n",
      "Referral id: r19559016721\n",
      "\t* Interpretation Request SAP-62-1: \n",
      "Referral id: r19031314434\n",
      "\t* Interpretation Request SAP-63-1: \n",
      "Referral id: r19888729392\n",
      "\t* Interpretation Request SAP-64-1: \n",
      "Referral id: r19804264624\n",
      "\t* Interpretation Request SAP-66-1: \n",
      "Referral id: r19066758142\n",
      "\t* Interpretation Request SAP-68-1: \n",
      "Referral id: r19879630291\n",
      "\t* Interpretation Request SAP-69-1: \n",
      "Referral id: r19935034984\n",
      "\t* Interpretation Request SAP-70-1: \n",
      "Referral id: r19252933191\n",
      "\t* Interpretation Request SAP-71-1: \n",
      "Referral id: r19614421412\n",
      "\t* Interpretation Request SAP-94-1: \n",
      "Referral id: r19585361336\n",
      "\t* Interpretation Request SAP-57-2: \n",
      "Referral id: r19407332690\n",
      "\t* Interpretation Request SAP-58-3: \n",
      "Referral id: r19503612036\n",
      "\t* Interpretation Request SAP-59-2: \n",
      "Referral id: r19498181097\n",
      "\t* Interpretation Request SAP-60-2: \n",
      "Referral id: r19806980097\n",
      "\t* Interpretation Request SAP-62-2: \n",
      "Referral id: r19226588580\n",
      "\t* Interpretation Request SAP-63-2: \n",
      "Referral id: r19643481497\n",
      "\t* Interpretation Request SAP-64-2: \n",
      "Referral id: r19206627604\n",
      "\t* Interpretation Request SAP-67-2: \n",
      "Referral id: r19115779204\n",
      "\t* Interpretation Request SAP-68-2: \n",
      "Referral id: r19182998460\n",
      "\t* Interpretation Request SAP-70-2: \n",
      "Referral id: r19238403159\n",
      "\t* Interpretation Request SAP-71-2: \n",
      "Referral id: r19143076503\n",
      "Referral id: r19102201856\n",
      "\t* Interpretation Request ILMN-76-2: \n",
      "Referral id: r19518142077\n",
      "\t* Interpretation Request ILMN-83-1: \n",
      "Referral id: r19002254359\n",
      "\t* Interpretation Request ILMN-86-1: \n",
      "Referral id: r19462737388\n",
      "\t* Interpretation Request SAP-37-3: \n",
      "Referral id: r19693455244\n",
      "\t* Interpretation Request SAP-87-1: \n",
      "Referral id: r19171183894\n",
      "\t* Interpretation Request SAP-88-1: \n",
      "Referral id: r19865100258\n",
      "\t* Interpretation Request ILMN-85-1: \n",
      "Referral id: r19045844479\n",
      "\t* Interpretation Request ILMN-84-1: \n",
      "Referral id: r19809695566\n",
      "\t* Interpretation Request ILMN-90-1: \n",
      "Referral id: r19573546767\n",
      "\t* Interpretation Request ILMN-91-1: \n",
      "Referral id: r19920504941\n",
      "\t* Interpretation Request SAP-89-1: \n",
      "Referral id: r19579120309\n",
      "Referral id: r19684356144\n",
      "\t* Interpretation Request SAP-92-3: \n"
     ]
    }
   ],
   "source": [
    "\n",
    "for referral in cipapi.list_referral():\n",
    "    print('Referral id: {}'.format(referral.referral_id))\n",
    "    for interpretation_request in referral.get_interpretation_requests(cipapi):\n",
    "        print('\\t* Interpretation Request {}: '.format(interpretation_request.case_id))"
   ]
  },
  {
   "cell_type": "markdown",
   "metadata": {},
   "source": [
    "### Listing Interpretation requests and associated referrals"
   ]
  },
  {
   "cell_type": "code",
   "execution_count": 24,
   "metadata": {},
   "outputs": [
    {
     "name": "stdout",
     "output_type": "stream",
     "text": [
      "GEL-8-1 r19754290876\n",
      "GEL-18-1 r19448207345\n",
      "GEL-19-1 r19156653850\n",
      "GEL-26-1 r19337397961\n",
      "GEL-3-2 r19698886184\n",
      "GEL-27-1 r19392802654\n",
      "GEL-29-1 r19628951458\n",
      "GEL-30-1 r19087814411\n",
      "GEL-31-1 r19475647240\n",
      "GEL-32-1 r19239498445\n",
      "SAP-37-1 r19281993271\n",
      "SAP-37-2 r19990439671\n",
      "SAP-62-1 r19559016721\n",
      "SAP-63-1 r19031314434\n",
      "SAP-64-1 r19888729392\n",
      "SAP-66-1 r19804264624\n",
      "SAP-68-1 r19066758142\n",
      "SAP-69-1 r19879630291\n",
      "SAP-70-1 r19935034984\n",
      "SAP-71-1 r19252933191\n",
      "SAP-57-2 r19585361336\n",
      "SAP-58-3 r19407332690\n",
      "SAP-59-2 r19503612036\n",
      "SAP-60-2 r19498181097\n",
      "SAP-62-2 r19806980097\n",
      "SAP-63-2 r19226588580\n",
      "SAP-64-2 r19643481497\n",
      "SAP-67-2 r19206627604\n",
      "SAP-68-2 r19115779204\n",
      "SAP-70-2 r19182998460\n",
      "SAP-71-2 r19238403159\n",
      "ILMN-76-2 r19102201856\n",
      "ILMN-83-1 r19518142077\n",
      "ILMN-84-1 r19045844479\n",
      "ILMN-85-1 r19865100258\n",
      "ILMN-86-1 r19002254359\n",
      "SAP-37-3 r19462737388\n",
      "SAP-87-1 r19693455244\n",
      "SAP-88-1 r19171183894\n",
      "SAP-89-1 r19920504941\n",
      "ILMN-90-1 r19809695566\n",
      "ILMN-91-1 r19573546767\n",
      "SAP-92-3 r19684356144\n",
      "SAP-93-1 r19552775693\n",
      "SAP-94-1 r19614421412\n"
     ]
    }
   ],
   "source": [
    "for interpretation_request in cipapi.get_cases(extra_params='show_referral', category='gms'):\n",
    "    print(interpretation_request.case_id, interpretation_request.referral.referral_id)"
   ]
  },
  {
   "cell_type": "markdown",
   "metadata": {},
   "source": [
    "### Example Cancer Case\n",
    "For GMS cancer cases it is recommened to get the cancer demographic and clinical data from the NGIS referral e.g. "
   ]
  },
  {
   "cell_type": "code",
   "execution_count": 53,
   "metadata": {},
   "outputs": [],
   "source": [
    "cancer_case = cipapi.get_case(case_id='86', \n",
    "                       case_version='1',\n",
    "                      **{'extra-params': 'show_referral'})"
   ]
  },
  {
   "cell_type": "code",
   "execution_count": 55,
   "metadata": {},
   "outputs": [
    {
     "data": {
      "text/plain": [
       "'ILMN-86-1'"
      ]
     },
     "execution_count": 55,
     "metadata": {},
     "output_type": "execute_result"
    }
   ],
   "source": [
    "cancer_case.case_id"
   ]
  },
  {
   "cell_type": "code",
   "execution_count": 65,
   "metadata": {},
   "outputs": [
    {
     "data": {
      "text/plain": [
       "{'yearOfBirth': 1967,\n",
       " 'morphology': None,\n",
       " 'readyForAnalysis': True,\n",
       " 'consentStatus': None,\n",
       " 'testConsentStatus': None,\n",
       " 'center': None,\n",
       " 'individualId': None,\n",
       " 'participantId': 'r19002254359',\n",
       " 'primaryDiagnosisDisease': None,\n",
       " 'primaryDiagnosisSubDisease': None,\n",
       " 'sex': 'MALE',\n",
       " 'additionalInformation': None,\n",
       " 'assignedICD10': None,\n",
       " 'tumourSamples': None,\n",
       " 'germlineSamples': None,\n",
       " 'versionControl': None,\n",
       " 'participantUid': '53aea2ed-3114-4cfb-81ac-a546627c9330',\n",
       " 'tumours': [{'tumourId': 'RP4_160003658',\n",
       "   'tumourLocalId': 'RP4_160003658',\n",
       "   'tumourType': 'SOLID_TUMOUR_PRIMARY',\n",
       "   'tumourParentId': None,\n",
       "   'tumourDiagnosisDate': {'year': 2019, 'month': 1, 'day': 31},\n",
       "   'tumourDescription': None,\n",
       "   'tumourMorphologies': [{'id': 'SCTID:271944004',\n",
       "     'name': None,\n",
       "     'value': None,\n",
       "     'version': None}],\n",
       "   'tumourTopographies': [{'id': 'SCTID:87784001',\n",
       "     'name': None,\n",
       "     'value': None,\n",
       "     'version': None}],\n",
       "   'tumourPrimaryTopographies': None,\n",
       "   'tumourGrade': None,\n",
       "   'tumourStage': None,\n",
       "   'tumourPrognosticScore': None,\n",
       "   'tumourPresentation': 'FIRST_PRESENTATION',\n",
       "   'primaryOrMetastatic': 'PRIMARY'}],\n",
       " 'previousTreatment': None}"
      ]
     },
     "execution_count": 65,
     "metadata": {},
     "output_type": "execute_result"
    }
   ],
   "source": [
    "cancer_case.referral.referral_data.cancerParticipant.toJsonDict()"
   ]
  },
  {
   "cell_type": "code",
   "execution_count": null,
   "metadata": {},
   "outputs": [],
   "source": []
  }
 ],
 "metadata": {
  "kernelspec": {
   "display_name": "Python 3",
   "language": "python",
   "name": "python3"
  },
  "language_info": {
   "codemirror_mode": {
    "name": "ipython",
    "version": 3
   },
   "file_extension": ".py",
   "mimetype": "text/x-python",
   "name": "python",
   "nbconvert_exporter": "python",
   "pygments_lexer": "ipython3",
   "version": "3.7.4"
  }
 },
 "nbformat": 4,
 "nbformat_minor": 2
}
