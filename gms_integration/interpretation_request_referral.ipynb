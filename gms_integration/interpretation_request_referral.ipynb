{
 "cells": [
  {
   "cell_type": "code",
   "execution_count": 1,
   "metadata": {
    "collapsed": true
   },
   "outputs": [],
   "source": [
    "import os\n",
    "\n",
    "from pycipapi.cipapi_client import CipApiClient\n",
    "\n",
    "username = os.getenv('cipapi_user')\n",
    "password = os.getenv('cipapi_pass')"
   ]
  },
  {
   "cell_type": "code",
   "execution_count": 2,
   "metadata": {},
   "outputs": [],
   "source": [
    "c = CipApiClient(url_base='https://cipapi-gms-beta.gel.zone/', user=username, password=password, retries=1)"
   ]
  },
  {
   "cell_type": "code",
   "execution_count": 7,
   "metadata": {},
   "outputs": [
    {
     "name": "stdout",
     "output_type": "stream",
     "text": [
      "Referral id: r_id\n"
     ]
    },
    {
     "name": "stdout",
     "output_type": "stream",
     "text": [
      "\t* Interpretation Request GEL-1-1: \nReferral id: gwIFyAyfNjnW\n"
     ]
    },
    {
     "name": "stdout",
     "output_type": "stream",
     "text": [
      "\t* Interpretation Request GEL-3-1: \nReferral id: 217000088\nReferral id: 70cdbea6-da4d-4004-8eeb-e7e5a401e22e\n"
     ]
    },
    {
     "name": "stdout",
     "output_type": "stream",
     "text": [
      "\t* Interpretation Request GEL-2-1: \n"
     ]
    }
   ],
   "source": [
    "# Here we list all of the referrals and get Interpretation Requests per each referral\n",
    "for referral in c.list_referral():\n",
    "    print('Referral id: {}'.format(referral.referral_id))\n",
    "    for interpretation_request in referral.get_interpretation_requests(c):\n",
    "        print('\\t* Interpretation Request {}: '.format(interpretation_request.case_id))"
   ]
  },
  {
   "cell_type": "code",
   "execution_count": 6,
   "metadata": {},
   "outputs": [
    {
     "name": "stdout",
     "output_type": "stream",
     "text": [
      "(u'GEL-1-1', u'r_id')\n(u'GEL-2-1', u'70cdbea6-da4d-4004-8eeb-e7e5a401e22e')\n(u'GEL-3-1', u'gwIFyAyfNjnW')\n"
     ]
    }
   ],
   "source": [
    "# Here we list all of the Interpretation Requests and get the referral per each one\n",
    "for interpretation_request in c.get_cases(extra_params='show_referral', category='gms'):\n",
    "    print(interpretation_request.case_id, interpretation_request.referral.referral_id)"
   ]
  },
  {
   "cell_type": "code",
   "execution_count": null,
   "metadata": {},
   "outputs": [],
   "source": []
  }
 ],
 "metadata": {
  "kernelspec": {
   "display_name": "Python 2",
   "language": "python",
   "name": "python2"
  },
  "language_info": {
   "codemirror_mode": {
    "name": "ipython",
    "version": 2
   },
   "file_extension": ".py",
   "mimetype": "text/x-python",
   "name": "python",
   "nbconvert_exporter": "python",
   "pygments_lexer": "ipython2",
   "version": "2.7.6"
  }
 },
 "nbformat": 4,
 "nbformat_minor": 0
}
